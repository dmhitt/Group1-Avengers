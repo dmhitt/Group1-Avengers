{
 "cells": [
  {
   "cell_type": "code",
   "execution_count": 97,
   "metadata": {},
   "outputs": [
    {
     "name": "stdout",
     "output_type": "stream",
     "text": [
      "<Response [200]>\n"
     ]
    }
   ],
   "source": [
    "import numpy as np\n",
    "import pandas as pd\n",
    "import json\n",
    "import requests\n",
    "from pprint import pprint\n",
    "\n",
    "from config import api_key\n",
    "\n",
    "url = \"http://www.omdbapi.com/?t=\"\n",
    "api_key = \"&apikey=\" + api_key\n",
    "    \n",
    "# Make request and store response\n",
    "response = requests.get(url + api_key)\n",
    "\n",
    "# Print status code\n",
    "print(response)"
   ]
  },
  {
   "cell_type": "code",
   "execution_count": 101,
   "metadata": {},
   "outputs": [
    {
     "name": "stdout",
     "output_type": "stream",
     "text": [
      "<Response [200]>\n",
      "{'Actors': 'Robert Downey Jr., Chris Evans, Mark Ruffalo, Chris Hemsworth',\n",
      " 'Awards': 'Nominated for 1 Oscar. Another 38 wins & 79 nominations.',\n",
      " 'BoxOffice': '$623,357,910',\n",
      " 'Country': 'USA',\n",
      " 'DVD': '22 Nov 2015',\n",
      " 'Director': 'Joss Whedon',\n",
      " 'Genre': 'Action, Adventure, Sci-Fi',\n",
      " 'Language': 'English, Russian, Hindi',\n",
      " 'Metascore': '69',\n",
      " 'Plot': \"Earth's mightiest heroes must come together and learn to fight as a \"\n",
      "         'team if they are going to stop the mischievous Loki and his alien '\n",
      "         'army from enslaving humanity.',\n",
      " 'Poster': 'https://m.media-amazon.com/images/M/MV5BNDYxNjQyMjAtNTdiOS00NGYwLWFmNTAtNThmYjU5ZGI2YTI1XkEyXkFqcGdeQXVyMTMxODk2OTU@._V1_SX300.jpg',\n",
      " 'Production': 'Marvel Studios',\n",
      " 'Rated': 'PG-13',\n",
      " 'Ratings': [{'Source': 'Internet Movie Database', 'Value': '8.0/10'},\n",
      "             {'Source': 'Rotten Tomatoes', 'Value': '91%'},\n",
      "             {'Source': 'Metacritic', 'Value': '69/100'}],\n",
      " 'Released': '04 May 2012',\n",
      " 'Response': 'True',\n",
      " 'Runtime': '143 min',\n",
      " 'Title': 'The Avengers',\n",
      " 'Type': 'movie',\n",
      " 'Website': 'N/A',\n",
      " 'Writer': 'Joss Whedon (screenplay), Zak Penn (story), Joss Whedon (story)',\n",
      " 'Year': '2012',\n",
      " 'imdbID': 'tt0848228',\n",
      " 'imdbRating': '8.0',\n",
      " 'imdbVotes': '1,275,816'}\n"
     ]
    }
   ],
   "source": [
    "response = requests.get(url + \"Avengers\" + api_key)\n",
    "\n",
    "print (response)\n",
    "\n",
    "data = response.json()\n",
    "pprint(data)"
   ]
  },
  {
   "cell_type": "code",
   "execution_count": 99,
   "metadata": {},
   "outputs": [
    {
     "name": "stdout",
     "output_type": "stream",
     "text": [
      "{'Title': 'Aliens', 'Year': '1986', 'Rated': 'R', 'Released': '18 Jul 1986', 'Runtime': '137 min', 'Genre': 'Action, Adventure, Sci-Fi, Thriller', 'Director': 'James Cameron', 'Writer': \"James Cameron (story by), David Giler (story by), Walter Hill (story by), Dan O'Bannon (based on characters created by), Ronald Shusett (based on characters created by), James Cameron (screenplay by)\", 'Actors': 'Sigourney Weaver, Carrie Henn, Michael Biehn, Paul Reiser', 'Plot': 'Fifty-seven years after surviving an apocalyptic attack aboard her space vessel by merciless space creatures, Officer Ripley awakens from hyper-sleep and tries to warn anyone who will listen about the predators.', 'Language': 'English', 'Country': 'UK, USA', 'Awards': 'Won 2 Oscars. Another 18 wins & 23 nominations.', 'Poster': 'https://m.media-amazon.com/images/M/MV5BZGU2OGY5ZTYtMWNhYy00NjZiLWI0NjUtZmNhY2JhNDRmODU3XkEyXkFqcGdeQXVyNzkwMjQ5NzM@._V1_SX300.jpg', 'Ratings': [{'Source': 'Internet Movie Database', 'Value': '8.3/10'}, {'Source': 'Rotten Tomatoes', 'Value': '97%'}, {'Source': 'Metacritic', 'Value': '84/100'}], 'Metascore': '84', 'imdbRating': '8.3', 'imdbVotes': '659,863', 'imdbID': 'tt0090605', 'Type': 'movie', 'DVD': '25 Nov 2015', 'BoxOffice': '$85,160,248', 'Production': 'Twentieth Century Fox, Brandywine Productions', 'Website': 'N/A', 'Response': 'True'}\n"
     ]
    }
   ],
   "source": [
    "data = response.json()\n",
    "\n",
    "print(data)"
   ]
  },
  {
   "cell_type": "code",
   "execution_count": null,
   "metadata": {},
   "outputs": [],
   "source": []
  },
  {
   "cell_type": "code",
   "execution_count": null,
   "metadata": {},
   "outputs": [],
   "source": []
  },
  {
   "cell_type": "code",
   "execution_count": null,
   "metadata": {},
   "outputs": [],
   "source": []
  }
 ],
 "metadata": {
  "kernelspec": {
   "display_name": "Python 3",
   "language": "python",
   "name": "python3"
  },
  "language_info": {
   "codemirror_mode": {
    "name": "ipython",
    "version": 3
   },
   "file_extension": ".py",
   "mimetype": "text/x-python",
   "name": "python",
   "nbconvert_exporter": "python",
   "pygments_lexer": "ipython3",
   "version": "3.8.5"
  }
 },
 "nbformat": 4,
 "nbformat_minor": 4
}
