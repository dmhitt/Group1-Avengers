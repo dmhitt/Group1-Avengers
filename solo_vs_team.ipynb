{
 "cells": [
  {
   "cell_type": "code",
   "execution_count": 5,
   "metadata": {},
   "outputs": [
    {
     "data": {
      "text/html": [
       "<div>\n",
       "<style scoped>\n",
       "    .dataframe tbody tr th:only-of-type {\n",
       "        vertical-align: middle;\n",
       "    }\n",
       "\n",
       "    .dataframe tbody tr th {\n",
       "        vertical-align: top;\n",
       "    }\n",
       "\n",
       "    .dataframe thead th {\n",
       "        text-align: right;\n",
       "    }\n",
       "</style>\n",
       "<table border=\"1\" class=\"dataframe\">\n",
       "  <thead>\n",
       "    <tr style=\"text-align: right;\">\n",
       "      <th></th>\n",
       "      <th>Domestic box office</th>\n",
       "      <th>Opening weekend</th>\n",
       "      <th>Production Budget</th>\n",
       "      <th>Release date</th>\n",
       "      <th>Title</th>\n",
       "      <th>Worldwide box office</th>\n",
       "      <th>origin</th>\n",
       "      <th>sequel</th>\n",
       "      <th>teamup</th>\n",
       "    </tr>\n",
       "  </thead>\n",
       "  <tbody>\n",
       "    <tr>\n",
       "      <th>21</th>\n",
       "      <td>$318,604,126</td>\n",
       "      <td>$102,118,668</td>\n",
       "      <td>$186,000,000.00</td>\n",
       "      <td>5/2/08</td>\n",
       "      <td>Iron Man</td>\n",
       "      <td>$585,171,547</td>\n",
       "      <td>yes</td>\n",
       "      <td>no</td>\n",
       "      <td>no</td>\n",
       "    </tr>\n",
       "    <tr>\n",
       "      <th>20</th>\n",
       "      <td>$134,806,913</td>\n",
       "      <td>$55,414,050</td>\n",
       "      <td>$137,500,000.00</td>\n",
       "      <td>6/13/08</td>\n",
       "      <td>The Incredible Hulk</td>\n",
       "      <td>$265,573,859</td>\n",
       "      <td>yes</td>\n",
       "      <td>no</td>\n",
       "      <td>no</td>\n",
       "    </tr>\n",
       "    <tr>\n",
       "      <th>19</th>\n",
       "      <td>$312,433,331</td>\n",
       "      <td>$128,122,480</td>\n",
       "      <td>$170,000,000.00</td>\n",
       "      <td>5/7/10</td>\n",
       "      <td>Iron Man 2</td>\n",
       "      <td>$621,156,389</td>\n",
       "      <td>no</td>\n",
       "      <td>yes</td>\n",
       "      <td>no</td>\n",
       "    </tr>\n",
       "    <tr>\n",
       "      <th>18</th>\n",
       "      <td>$181,030,624</td>\n",
       "      <td>$65,723,338</td>\n",
       "      <td>$150,000,000.00</td>\n",
       "      <td>5/6/11</td>\n",
       "      <td>Thor</td>\n",
       "      <td>$449,326,618</td>\n",
       "      <td>yes</td>\n",
       "      <td>no</td>\n",
       "      <td>no</td>\n",
       "    </tr>\n",
       "    <tr>\n",
       "      <th>17</th>\n",
       "      <td>$176,654,505</td>\n",
       "      <td>$65,058,524</td>\n",
       "      <td>$140,000,000.00</td>\n",
       "      <td>7/22/11</td>\n",
       "      <td>Captain America: The First Avenger</td>\n",
       "      <td>$370,569,776</td>\n",
       "      <td>yes</td>\n",
       "      <td>no</td>\n",
       "      <td>no</td>\n",
       "    </tr>\n",
       "    <tr>\n",
       "      <th>16</th>\n",
       "      <td>$623,357,910</td>\n",
       "      <td>$207,438,708</td>\n",
       "      <td>$225,000,000.00</td>\n",
       "      <td>5/4/12</td>\n",
       "      <td>The Avengers</td>\n",
       "      <td>$1,515,100,211</td>\n",
       "      <td>no</td>\n",
       "      <td>no</td>\n",
       "      <td>yes</td>\n",
       "    </tr>\n",
       "    <tr>\n",
       "      <th>15</th>\n",
       "      <td>$408,992,272</td>\n",
       "      <td>$174,144,585</td>\n",
       "      <td>$200,000,000.00</td>\n",
       "      <td>5/3/13</td>\n",
       "      <td>Iron Man 3</td>\n",
       "      <td>$1,215,392,272</td>\n",
       "      <td>no</td>\n",
       "      <td>yes</td>\n",
       "      <td>no</td>\n",
       "    </tr>\n",
       "    <tr>\n",
       "      <th>14</th>\n",
       "      <td>$206,362,140</td>\n",
       "      <td>$85,737,841</td>\n",
       "      <td>$150,000,000.00</td>\n",
       "      <td>11/8/13</td>\n",
       "      <td>Thor: The Dark World</td>\n",
       "      <td>$644,602,516</td>\n",
       "      <td>no</td>\n",
       "      <td>yes</td>\n",
       "      <td>no</td>\n",
       "    </tr>\n",
       "    <tr>\n",
       "      <th>13</th>\n",
       "      <td>$259,746,958</td>\n",
       "      <td>$95,023,721</td>\n",
       "      <td>$170,000,000.00</td>\n",
       "      <td>4/4/14</td>\n",
       "      <td>Captain America: The Winter Soldier</td>\n",
       "      <td>$714,401,889</td>\n",
       "      <td>no</td>\n",
       "      <td>yes</td>\n",
       "      <td>no</td>\n",
       "    </tr>\n",
       "    <tr>\n",
       "      <th>12</th>\n",
       "      <td>$333,714,112</td>\n",
       "      <td>$94,320,883</td>\n",
       "      <td>$170,000,000.00</td>\n",
       "      <td>8/1/14</td>\n",
       "      <td>Guardians of the Galaxy</td>\n",
       "      <td>$770,882,395</td>\n",
       "      <td>yes</td>\n",
       "      <td>no</td>\n",
       "      <td>yes</td>\n",
       "    </tr>\n",
       "    <tr>\n",
       "      <th>11</th>\n",
       "      <td>$459,005,868</td>\n",
       "      <td>$191,271,109</td>\n",
       "      <td>$365,000,000.00</td>\n",
       "      <td>5/1/15</td>\n",
       "      <td>Avengers: Age of Ultron</td>\n",
       "      <td>$1,395,316,979</td>\n",
       "      <td>no</td>\n",
       "      <td>yes</td>\n",
       "      <td>yes</td>\n",
       "    </tr>\n",
       "    <tr>\n",
       "      <th>10</th>\n",
       "      <td>$180,202,163</td>\n",
       "      <td>$57,225,526</td>\n",
       "      <td>$130,000,000.00</td>\n",
       "      <td>7/17/15</td>\n",
       "      <td>Ant-Man</td>\n",
       "      <td>$518,858,449</td>\n",
       "      <td>yes</td>\n",
       "      <td>no</td>\n",
       "      <td>no</td>\n",
       "    </tr>\n",
       "    <tr>\n",
       "      <th>9</th>\n",
       "      <td>$408,084,349</td>\n",
       "      <td>$179,139,142</td>\n",
       "      <td>$250,000,000.00</td>\n",
       "      <td>5/6/16</td>\n",
       "      <td>Captain America: Civil War</td>\n",
       "      <td>$1,151,918,521</td>\n",
       "      <td>no</td>\n",
       "      <td>yes</td>\n",
       "      <td>yes</td>\n",
       "    </tr>\n",
       "    <tr>\n",
       "      <th>8</th>\n",
       "      <td>$232,641,920</td>\n",
       "      <td>$85,058,311</td>\n",
       "      <td>$165,000,000.00</td>\n",
       "      <td>11/4/16</td>\n",
       "      <td>Doctor Strange</td>\n",
       "      <td>$676,354,481</td>\n",
       "      <td>yes</td>\n",
       "      <td>no</td>\n",
       "      <td>no</td>\n",
       "    </tr>\n",
       "    <tr>\n",
       "      <th>7</th>\n",
       "      <td>$389,813,101</td>\n",
       "      <td>$146,510,104</td>\n",
       "      <td>$200,000,000.00</td>\n",
       "      <td>5/5/17</td>\n",
       "      <td>Guardians of the Galaxy Vol 2</td>\n",
       "      <td>$869,113,101</td>\n",
       "      <td>no</td>\n",
       "      <td>yes</td>\n",
       "      <td>yes</td>\n",
       "    </tr>\n",
       "    <tr>\n",
       "      <th>6</th>\n",
       "      <td>$334,201,140</td>\n",
       "      <td>$117,027,503</td>\n",
       "      <td>$175,000,000.00</td>\n",
       "      <td>7/7/17</td>\n",
       "      <td>Spider-Man: Homecoming</td>\n",
       "      <td>$880,166,350</td>\n",
       "      <td>yes</td>\n",
       "      <td>no</td>\n",
       "      <td>no</td>\n",
       "    </tr>\n",
       "    <tr>\n",
       "      <th>5</th>\n",
       "      <td>$315,058,289</td>\n",
       "      <td>$122,744,989</td>\n",
       "      <td>$180,000,000.00</td>\n",
       "      <td>11/3/17</td>\n",
       "      <td>Thor: Ragnarok</td>\n",
       "      <td>$850,482,778</td>\n",
       "      <td>no</td>\n",
       "      <td>yes</td>\n",
       "      <td>no</td>\n",
       "    </tr>\n",
       "    <tr>\n",
       "      <th>4</th>\n",
       "      <td>$700,059,566</td>\n",
       "      <td>$202,003,951</td>\n",
       "      <td>$200,000,000.00</td>\n",
       "      <td>2/16/18</td>\n",
       "      <td>Black Panther</td>\n",
       "      <td>$1,336,494,321</td>\n",
       "      <td>yes</td>\n",
       "      <td>no</td>\n",
       "      <td>no</td>\n",
       "    </tr>\n",
       "    <tr>\n",
       "      <th>3</th>\n",
       "      <td>$678,815,482</td>\n",
       "      <td>$257,698,183</td>\n",
       "      <td>$300,000,000.00</td>\n",
       "      <td>4/27/18</td>\n",
       "      <td>Avengers: Infinity War</td>\n",
       "      <td>$2,044,540,523</td>\n",
       "      <td>no</td>\n",
       "      <td>yes</td>\n",
       "      <td>yes</td>\n",
       "    </tr>\n",
       "    <tr>\n",
       "      <th>2</th>\n",
       "      <td>$216,648,740</td>\n",
       "      <td>$75,812,205</td>\n",
       "      <td>$130,000,000.00</td>\n",
       "      <td>7/6/18</td>\n",
       "      <td>Ant-Man and the Wasp</td>\n",
       "      <td>$623,144,660</td>\n",
       "      <td>no</td>\n",
       "      <td>yes</td>\n",
       "      <td>no</td>\n",
       "    </tr>\n",
       "    <tr>\n",
       "      <th>1</th>\n",
       "      <td>$426,829,839</td>\n",
       "      <td>$153,433,423</td>\n",
       "      <td>$175,000,000.00</td>\n",
       "      <td>3/8/19</td>\n",
       "      <td>Captain Marvel</td>\n",
       "      <td>$1,129,727,388</td>\n",
       "      <td>yes</td>\n",
       "      <td>no</td>\n",
       "      <td>no</td>\n",
       "    </tr>\n",
       "    <tr>\n",
       "      <th>0</th>\n",
       "      <td>$858,373,000</td>\n",
       "      <td>$357,115,007</td>\n",
       "      <td>$356,000,000.00</td>\n",
       "      <td>4/26/19</td>\n",
       "      <td>Avengers: Endgame</td>\n",
       "      <td>$2,797,501,328</td>\n",
       "      <td>no</td>\n",
       "      <td>yes</td>\n",
       "      <td>yes</td>\n",
       "    </tr>\n",
       "  </tbody>\n",
       "</table>\n",
       "</div>"
      ],
      "text/plain": [
       "   Domestic box office Opening weekend Production Budget Release date  \\\n",
       "21       $318,604,126    $102,118,668   $186,000,000.00        5/2/08   \n",
       "20       $134,806,913     $55,414,050   $137,500,000.00       6/13/08   \n",
       "19       $312,433,331    $128,122,480   $170,000,000.00        5/7/10   \n",
       "18       $181,030,624     $65,723,338   $150,000,000.00        5/6/11   \n",
       "17       $176,654,505     $65,058,524   $140,000,000.00       7/22/11   \n",
       "16       $623,357,910    $207,438,708   $225,000,000.00        5/4/12   \n",
       "15       $408,992,272    $174,144,585   $200,000,000.00        5/3/13   \n",
       "14       $206,362,140     $85,737,841   $150,000,000.00       11/8/13   \n",
       "13       $259,746,958     $95,023,721   $170,000,000.00        4/4/14   \n",
       "12       $333,714,112     $94,320,883   $170,000,000.00        8/1/14   \n",
       "11       $459,005,868    $191,271,109   $365,000,000.00        5/1/15   \n",
       "10       $180,202,163     $57,225,526   $130,000,000.00       7/17/15   \n",
       "9        $408,084,349    $179,139,142   $250,000,000.00        5/6/16   \n",
       "8        $232,641,920     $85,058,311   $165,000,000.00       11/4/16   \n",
       "7        $389,813,101    $146,510,104   $200,000,000.00        5/5/17   \n",
       "6        $334,201,140    $117,027,503   $175,000,000.00        7/7/17   \n",
       "5        $315,058,289    $122,744,989   $180,000,000.00       11/3/17   \n",
       "4        $700,059,566    $202,003,951   $200,000,000.00       2/16/18   \n",
       "3        $678,815,482    $257,698,183   $300,000,000.00       4/27/18   \n",
       "2        $216,648,740     $75,812,205   $130,000,000.00        7/6/18   \n",
       "1        $426,829,839    $153,433,423   $175,000,000.00        3/8/19   \n",
       "0        $858,373,000    $357,115,007   $356,000,000.00       4/26/19   \n",
       "\n",
       "                                  Title Worldwide box office origin sequel  \\\n",
       "21                             Iron Man        $585,171,547     yes     no   \n",
       "20                  The Incredible Hulk        $265,573,859     yes     no   \n",
       "19                           Iron Man 2        $621,156,389      no    yes   \n",
       "18                                 Thor        $449,326,618     yes     no   \n",
       "17   Captain America: The First Avenger        $370,569,776     yes     no   \n",
       "16                         The Avengers      $1,515,100,211      no     no   \n",
       "15                           Iron Man 3      $1,215,392,272      no    yes   \n",
       "14                 Thor: The Dark World        $644,602,516      no    yes   \n",
       "13  Captain America: The Winter Soldier        $714,401,889      no    yes   \n",
       "12              Guardians of the Galaxy        $770,882,395     yes     no   \n",
       "11              Avengers: Age of Ultron      $1,395,316,979      no    yes   \n",
       "10                              Ant-Man        $518,858,449     yes     no   \n",
       "9            Captain America: Civil War      $1,151,918,521      no    yes   \n",
       "8                        Doctor Strange        $676,354,481     yes     no   \n",
       "7         Guardians of the Galaxy Vol 2        $869,113,101      no    yes   \n",
       "6                Spider-Man: Homecoming        $880,166,350     yes     no   \n",
       "5                        Thor: Ragnarok        $850,482,778      no    yes   \n",
       "4                         Black Panther      $1,336,494,321     yes     no   \n",
       "3                Avengers: Infinity War      $2,044,540,523      no    yes   \n",
       "2                  Ant-Man and the Wasp        $623,144,660      no    yes   \n",
       "1                        Captain Marvel      $1,129,727,388     yes     no   \n",
       "0                     Avengers: Endgame      $2,797,501,328      no    yes   \n",
       "\n",
       "   teamup  \n",
       "21     no  \n",
       "20     no  \n",
       "19     no  \n",
       "18     no  \n",
       "17     no  \n",
       "16    yes  \n",
       "15     no  \n",
       "14     no  \n",
       "13     no  \n",
       "12    yes  \n",
       "11    yes  \n",
       "10     no  \n",
       "9     yes  \n",
       "8      no  \n",
       "7     yes  \n",
       "6      no  \n",
       "5      no  \n",
       "4      no  \n",
       "3     yes  \n",
       "2      no  \n",
       "1      no  \n",
       "0     yes  "
      ]
     },
     "execution_count": 5,
     "metadata": {},
     "output_type": "execute_result"
    }
   ],
   "source": [
    "import numpy as np\n",
    "import pandas as pd\n",
    "import json\n",
    "import requests\n",
    "import matplotlib.pyplot as plt\n",
    "import datetime\n",
    "\n",
    "from pprint import pprint\n",
    "#from config import api_key\n",
    "from matplotlib.pyplot import figure\n",
    "\n",
    "#url = \"http://www.omdbapi.com/?t=\"\n",
    "#api_key = \"&apikey=\" + api_key\n",
    "    \n",
    "# Make request and store response\n",
    "#response = requests.get(url + api_key)\n",
    "\n",
    "# Reading in the CSV's\n",
    "marvel_movies_df= pd.read_csv('mcu_domestic_global_box_office_fixed_endgame.csv')\n",
    "iron_vs_cap_df= pd.read_csv('rdj ce movie data.csv')\n",
    "\n",
    "\n",
    "marvel_movies_df = marvel_movies_df.sort_index(axis=1 ,ascending=True)\n",
    "\n",
    "marvel_movies_df = marvel_movies_df.iloc[::-1]\n",
    "\n",
    "marvel_movies_df\n",
    "#marvel_movies_df\n",
    "#marvel_movies_df.reindex(index=marvel_movies_df.index[::-1])\n",
    "\n",
    "#marvel_movies_df['Release date']\n",
    "\n",
    "#marvel_movies_df.sort_values(by=['Release date'])"
   ]
  },
  {
   "cell_type": "code",
   "execution_count": 6,
   "metadata": {},
   "outputs": [],
   "source": [
    "marvel_movies_df['Domestic box office']= marvel_movies_df['Domestic box office'].replace('[$,.]',\"\",regex=True).astype(float)\n",
    "marvel_movies_df['Worldwide box office']= marvel_movies_df['Worldwide box office'].replace('[$,.]',\"\",regex=True).astype(float)\n",
    "marvel_movies_df['Production Budget']= marvel_movies_df['Production Budget'].replace('[$,.]',\"\",regex=True).astype(float)\n",
    "marvel_movies_df['Opening weekend']= marvel_movies_df['Opening weekend'].replace('[$,.]',\"\",regex=True).astype(float)"
   ]
  },
  {
   "cell_type": "code",
   "execution_count": 11,
   "metadata": {},
   "outputs": [],
   "source": [
    "teamup_titles = marvel_movies_df.loc[marvel_movies_df['teamup'] == \"yes\"]['Title']\n",
    "teamup_doms = marvel_movies_df.loc[marvel_movies_df['teamup'] == \"yes\"]['Domestic box office']\n",
    "teamup_global = marvel_movies_df.loc[marvel_movies_df['teamup'] == \"yes\"]['Worldwide box office']\n",
    "\n",
    "non_teamup_titles = marvel_movies_df.loc[marvel_movies_df['teamup'] == \"no\"]['Title']\n",
    "non_teamup_doms = marvel_movies_df.loc[marvel_movies_df['teamup'] == \"no\"]['Domestic box office']\n",
    "non_teamup_global = marvel_movies_df.loc[marvel_movies_df['teamup'] == \"no\"]['Worldwide box office']"
   ]
  },
  {
   "cell_type": "code",
   "execution_count": 24,
   "metadata": {
    "scrolled": false
   },
   "outputs": [
    {
     "data": {
      "text/plain": [
       "<function matplotlib.pyplot.show(close=None, block=None)>"
      ]
     },
     "execution_count": 24,
     "metadata": {},
     "output_type": "execute_result"
    },
    {
     "data": {
      "image/png": "[encoded data removed]",
      "text/plain": [
       "<Figure size 800x800 with 1 Axes>"
      ]
     },
     "metadata": {
      "needs_background": "light"
     },
     "output_type": "display_data"
    }
   ],
   "source": [
    "figure(figsize=(10, 10), dpi=80)\n",
    "\n",
    "#plt.bar(marvel_movies_df['Title'], marvel_movies_df['Domestic box office'], color=\"b\", align=\"center\")\n",
    "#plt.bar(marvel_movies_df.loc[marvel_movies_df['teamup'] == \"yes\"]['Title'], marvel_movies_df.loc[marvel_movies_df['teamup'] == \"yes\"]['Domestic box office'], color=\"b\", align=\"center\")\n",
    "plt.bar(teamup_titles, teamup_doms, color=\"b\", align=\"center\")\n",
    "plt.title(\"Team-up Movies Domestic Box Office\")\n",
    "plt.xticks(rotation=(90))\n",
    "plt.show"
   ]
  },
  {
   "cell_type": "code",
   "execution_count": 25,
   "metadata": {},
   "outputs": [
    {
     "data": {
      "text/plain": [
       "<function matplotlib.pyplot.show(close=None, block=None)>"
      ]
     },
     "execution_count": 25,
     "metadata": {},
     "output_type": "execute_result"
    },
    {
     "data": {
      "image/png": "[encoded data removed]",
      "text/plain": [
       "<Figure size 800x800 with 1 Axes>"
      ]
     },
     "metadata": {
      "needs_background": "light"
     },
     "output_type": "display_data"
    }
   ],
   "source": [
    "figure(figsize=(10, 10), dpi=80)\n",
    "\n",
    "plt.bar(teamup_titles, teamup_global, color=\"b\", align=\"center\")\n",
    "plt.title(\"Team-up Movies Global Box Office\")\n",
    "plt.xticks(rotation=(90))\n",
    "plt.show"
   ]
  },
  {
   "cell_type": "code",
   "execution_count": 14,
   "metadata": {},
   "outputs": [
    {
     "data": {
      "text/plain": [
       "535880546.0"
      ]
     },
     "execution_count": 14,
     "metadata": {},
     "output_type": "execute_result"
    }
   ],
   "source": [
    "#avg_teamup_dom_gross = pd.series.mean(teamup_doms)\n",
    "\n",
    "avg_teamup_dom_gross = teamup_doms.mean()\n",
    "avg_teamup_dom_gross"
   ]
  },
  {
   "cell_type": "code",
   "execution_count": 15,
   "metadata": {},
   "outputs": [
    {
     "data": {
      "text/plain": [
       "1506339008.2857144"
      ]
     },
     "execution_count": 15,
     "metadata": {},
     "output_type": "execute_result"
    }
   ],
   "source": [
    "avg_teamup_global_gross = teamup_global.mean()\n",
    "avg_teamup_global_gross"
   ]
  },
  {
   "cell_type": "code",
   "execution_count": 28,
   "metadata": {
    "scrolled": false
   },
   "outputs": [
    {
     "data": {
      "text/plain": [
       "<function matplotlib.pyplot.show(close=None, block=None)>"
      ]
     },
     "execution_count": 28,
     "metadata": {},
     "output_type": "execute_result"
    },
    {
     "data": {
      "image/png": "[encoded data removed]",
      "text/plain": [
       "<Figure size 480x480 with 1 Axes>"
      ]
     },
     "metadata": {
      "needs_background": "light"
     },
     "output_type": "display_data"
    }
   ],
   "source": [
    "figure(figsize=(6, 6), dpi=80)\n",
    "\n",
    "#plt.bar(marvel_movies_df['Title'], marvel_movies_df['Domestic box office'], color=\"b\", align=\"center\")\n",
    "#plt.bar(marvel_movies_df.loc[marvel_movies_df['teamup'] == \"yes\"]['Title'], marvel_movies_df.loc[marvel_movies_df['teamup'] == \"yes\"]['Domestic box office'], color=\"b\", align=\"center\")\n",
    "\n",
    "plt.bar(non_teamup_titles, non_teamup_doms, color=\"r\", align=\"center\")\n",
    "plt.title(\"Origin and Sequel Movies Domestic Box Office\")\n",
    "plt.xticks(rotation=(90))\n",
    "plt.show"
   ]
  },
  {
   "cell_type": "code",
   "execution_count": 29,
   "metadata": {},
   "outputs": [
    {
     "data": {
      "text/plain": [
       "<function matplotlib.pyplot.show(close=None, block=None)>"
      ]
     },
     "execution_count": 29,
     "metadata": {},
     "output_type": "execute_result"
    },
    {
     "data": {
      "image/png": "[encoded data removed]",
      "text/plain": [
       "<Figure size 480x480 with 1 Axes>"
      ]
     },
     "metadata": {
      "needs_background": "light"
     },
     "output_type": "display_data"
    }
   ],
   "source": [
    "figure(figsize=(6, 6), dpi=80)\n",
    "\n",
    "plt.bar(non_teamup_titles, non_teamup_global, color=\"r\", align=\"center\")\n",
    "plt.title(\"Origin and Sequel Movies Global Box Office\")\n",
    "plt.xticks(rotation=(90))\n",
    "plt.show"
   ]
  },
  {
   "cell_type": "code",
   "execution_count": 76,
   "metadata": {},
   "outputs": [
    {
     "data": {
      "text/plain": [
       "293618168.4"
      ]
     },
     "execution_count": 76,
     "metadata": {},
     "output_type": "execute_result"
    }
   ],
   "source": [
    "avg_nonteamup_dom_gross = non_teamup_doms.mean()\n",
    "avg_nonteamup_dom_gross"
   ]
  },
  {
   "cell_type": "code",
   "execution_count": 18,
   "metadata": {},
   "outputs": [
    {
     "data": {
      "text/plain": [
       "725428219.5333333"
      ]
     },
     "execution_count": 18,
     "metadata": {},
     "output_type": "execute_result"
    }
   ],
   "source": [
    "avg_nonteamup_global_gross = non_teamup_global.mean()\n",
    "avg_nonteamup_global_gross"
   ]
  }
 ],
 "metadata": {
  "kernelspec": {
   "display_name": "Python 3",
   "language": "python",
   "name": "python3"
  },
  "language_info": {
   "codemirror_mode": {
    "name": "ipython",
    "version": 3
   },
   "file_extension": ".py",
   "mimetype": "text/x-python",
   "name": "python",
   "nbconvert_exporter": "python",
   "pygments_lexer": "ipython3",
   "version": "3.8.5"
  }
 },
 "nbformat": 4,
 "nbformat_minor": 4
}
